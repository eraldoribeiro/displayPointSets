{
 "cells": [
  {
   "cell_type": "markdown",
   "id": "5967ca37",
   "metadata": {
    "colab_type": "text",
    "id": "view-in-github"
   },
  },
  {
   "cell_type": "markdown",
   "id": "348e3b0c",
   "metadata": {
    "id": "348e3b0c"
   },
   "source": [
    "# Geometric transformation in 2-D"
   ]
  },
  {
   "cell_type": "markdown",
   "id": "74e1a667-fe45-408a-b4f0-36596b7fe0ef",
   "metadata": {
    "id": "74e1a667-fe45-408a-b4f0-36596b7fe0ef"
   },
   "source": [
    "In these notes, we introduce the topic of two-dimensional geometric\n",
    "transformations. We begin by defining the basic single-valued\n",
    "linear function, which we then upgrade to its two-dimensional\n",
    "counterpart. The 2-D transformation usually consists of two separate\n",
    "equations, each generating a component of the transformed vector by\n",
    "combining (i.e., mixing) the components of the original input vector\n",
    "with the parameters of the transformation.\n",
    "\n",
    "When these transformations are linear, they can be written in matrix form which allows us to take advantage of the tools of matrix algebra and linear algebra. By using matrices to represent transformations, we can perform efficient\n",
    "computations on large quantities of data as well as write mathematical formulations that are both elegant and concise."
   ]
  },
  {
   "cell_type": "markdown",
   "id": "8ef525a9-6229-44fd-aa33-dac5fa14df7d",
   "metadata": {
    "id": "8ef525a9-6229-44fd-aa33-dac5fa14df7d"
   },
   "source": [
    "## One-dimensional linear transformations\n",
    "\n",
    "The function $f: \\mathbb{R} \\rightarrow \\mathbb{R}$ such that:\n",
    "\n",
    "$$\n",
    "\\begin{align}\n",
    "\tf(x) = ax,\n",
    "\\end{align}\n",
    "$$\n",
    "\n",
    "with $a \\in \\mathbb{R}$ is a simple case of a 1-D linear transformation. It\n",
    "maps (i.e., transforms) the value $x$ onto a new value $ax$.\n",
    "\n",
    "### Example:\n",
    "\n",
    "Function $f: \\mathbb{R} \\rightarrow \\mathbb{R}$, $f\\left(x\\right) = 3x$ maps an input value $x$ into its triple, e.g., $f\\left(2\\right) = 6$, $f\\left(4\\right) = 12$."
   ]
  },
  {
   "cell_type": "markdown",
   "id": "6ddd3302-c4ee-423c-930e-105ae55e32d4",
   "metadata": {
    "id": "6ddd3302-c4ee-423c-930e-105ae55e32d4"
   },
   "source": [
    "## 2-D (linear) geometric transformations\n",
    "\n",
    "The 2-D linear transformation has two-dimensional vectors ${\\bf x} = (x,y)^\\mathsf{T}$ as input. For example, we can define the transformation\n",
    "$f: \\mathbb{R}^2 \\rightarrow \\mathbb{R}^2$ such that:\n",
    "\n",
    "$$\n",
    "\\begin{align}\n",
    "\t\tx^\\prime &= f_1\\left(x,y\\right) = a_1 x + a_2 y, \\notag \\\\\n",
    "\t\ty^\\prime &= f_2\\left(x,y\\right) = a_3 x + a_4 y.\n",
    "\\end{align}\n",
    "$$\n",
    "\n",
    "In the 2-D case, the linear transformation consists of two separate\n",
    "equations, each resulting in one component (or coordinate) of the\n",
    "transformed vector.\n",
    "\n",
    "### Example:\n",
    "\n",
    "The following transformation\n",
    "\n",
    "$$\n",
    "\\begin{align}\n",
    "\tx^\\prime = 2 x + 1 y, \\notag \\\\\n",
    "    y^\\prime = 3 x - 2 y.\n",
    "\\end{align}\n",
    "$$\n",
    "\n",
    "when applied to the vector ${\\bf x} = (1,4)^\\mathsf{T}$, results in the transformed vector ${\\bf x}^\\prime = (6,-5)^\\mathsf{T}$, i.e.:\n",
    "\n",
    "$$\n",
    "\\begin{align}\n",
    "\tx^\\prime &= 2(1) + 1(4) =  6, \\notag \\\\\n",
    "    y^\\prime &= 3(1) - 2(4) = -5.\n",
    "\\end{align}\n",
    "$$\n",
    "\n"
   ]
  },
  {
   "cell_type": "markdown",
   "id": "40e0e477-a6f8-48ca-83e0-0bf31b312ede",
   "metadata": {
    "id": "40e0e477-a6f8-48ca-83e0-0bf31b312ede"
   },
   "source": [
    "## Linear transformation in matrix form\n",
    "\n",
    "Linear transformations and matrices are *isomorphic* (i.e., they are equivalent algebraic structures). This isomorphism allows for linear transformations to be written as a matrix multiplication, which in turn leads to efficient computation of transformations as well as an elegant simplified mathematical notation."
   ]
  },
  {
   "cell_type": "markdown",
   "id": "32bc0819-03e6-49b8-8490-b200d267c6f0",
   "metadata": {
    "id": "32bc0819-03e6-49b8-8490-b200d267c6f0"
   },
   "source": [
    "<blockquote style=\"border: 2px solid #666; padding: 10px;\"> <b>Isomorphism</b>. Linear transformations can be expressed in matrix form. Also, matrices are representations of linear transformations. This type of equivalence between algebraic structures is called <i>Isomorphism</i>.\n",
    "</blockquote>"
   ]
  },
  {
   "cell_type": "markdown",
   "id": "a0bc5bde-9f02-4f9d-9f16-8fa82a3b0216",
   "metadata": {
    "id": "a0bc5bde-9f02-4f9d-9f16-8fa82a3b0216"
   },
   "source": [
    "Let $F: \\mathbb{R}^2 \\rightarrow \\mathbb{R}^2$ be a linear transformation that maps a vector ${\\bf x} = \\left(x,y\\right)^\\mathsf{T}$ to a vector $F({\\bf x}) = \\left(x^\\prime,y^\\prime\\right)^\\mathsf{T}$, which is written as follows:\n",
    "\n",
    "$$\n",
    "\\begin{align}\n",
    "\t\tx^\\prime &= F_1\\left(x,y\\right) = a_1 x + a_2 y, \\notag \\\\\n",
    "\t\ty^\\prime &= F_2\\left(x,y\\right) = a_3 x + a_4 y.\n",
    "\\end{align}\n",
    "$$\n",
    "\n",
    "\n",
    "\n",
    "\n",
    "Because of the isomorphism between linear transformations and matrices, we know that the matrix of the transformed vector is given by the product between the matrix of the transformation $F$ and the matrix of the original vector ${\\bf x}$. This equivalence can be written as:    \n",
    "$$\n",
    "\\begin{align}\n",
    "\t\\left[F({\\bf x})\\right] &= \\left[F\\right] \\cdot \\left[{\\bf x}\\right]   \n",
    "\\end{align}\n",
    "$$\n",
    "\n",
    "Here, $\\left[{\\bf x}\\right]$ denotes the matrix of ${\\bf x}$."
   ]
  },
  {
   "cell_type": "markdown",
   "id": "0189ac20-e43a-4866-b4ae-bba69db62464",
   "metadata": {
    "id": "0189ac20-e43a-4866-b4ae-bba69db62464"
   },
   "source": [
    "The above linear transformation can be written in matrix form as follows:\n",
    "\n",
    "\\begin{align}\n",
    "\t\t\\begin{bmatrix}\n",
    "\t\tx^\\prime \\\\\n",
    "\t\ty^\\prime\n",
    "\t\\end{bmatrix}\n",
    " \t=\n",
    "\t\\begin{bmatrix}\n",
    "\t\ta_1 & a_2 \\\\\n",
    "\t\ta_3 & a_4\n",
    "\t\\end{bmatrix}\n",
    "\t\\begin{bmatrix}\n",
    "\t\tx \\\\\n",
    "\t\ty\n",
    "\t\\end{bmatrix},\n",
    "\\end{align}\n",
    "\n",
    "or, in short:\n",
    "\n",
    "\\begin{align}\n",
    "\t{\\bf x}^\\prime = A{\\bf x},\n",
    "\\end{align}\n",
    "\n",
    "where:\n",
    "\n",
    "\\begin{align}\n",
    "\tA =\n",
    "\t\\begin{bmatrix}\n",
    "\t\ta_1 & a_2 \\\\\n",
    "\t\ta_3 & a_4\n",
    "\t\\end{bmatrix}.\n",
    "\\end{align}\n",
    "\n",
    "This matrix is called the *matrix of the linear transformation*.\n",
    "\n",
    "By using matrix algebra, linear-transformation equations retain the same overall form regardless the dimension. Indeed, the equation of the 1-D transformation and the matrix form of the 2-D transformation have the same overall form but the 2-D version maps vectors instead of single-valued quantities, and the transformation is represented by a $2\\times 2$ matrix instead of a scalar.\n",
    "\n",
    "\n"
   ]
  },
  {
   "cell_type": "markdown",
   "id": "27928ea9-99fa-43d4-bac8-c7208d98c1ec",
   "metadata": {
    "id": "27928ea9-99fa-43d4-bac8-c7208d98c1ec"
   },
   "source": [
    "## Some important 2-D geometric transformations\n",
    "\n",
    "The matrix of some important linear geometric 2-D transformations are:\n",
    "\n",
    "### Scaling\n",
    "\\begin{align}\n",
    "\tS =\n",
    "\t\\begin{bmatrix}\n",
    "\t\ts_x & 0 \\\\\n",
    "\t\t0 & s_y\n",
    "\t\\end{bmatrix}.\n",
    "\\end{align}\n",
    "\n",
    "\n",
    "### Rotation\n",
    "\n",
    "\\begin{align}\n",
    "\tR =\n",
    "\t\\begin{bmatrix}\n",
    "\t\t\\cos\\theta & -\\sin\\theta \\\\\n",
    "\t\t\\sin\\theta &  \\cos\\theta\n",
    "\t\\end{bmatrix}.\n",
    "\\end{align}\n",
    "\n",
    "\n",
    "### Shearing\n",
    "\n",
    "\\begin{align}\n",
    "\tS_x =\n",
    "\t\\begin{bmatrix}\n",
    "\t\t1 & k \\\\\n",
    "\t\t0 &  1\n",
    "\t\\end{bmatrix}\n",
    "\t\\hspace{.2in}\\text{and}\\hspace{.2in}\n",
    "\tS_y =\n",
    "\t\\begin{bmatrix}\n",
    "\t\t1 & 0 \\\\\n",
    "\t\tk &  1\n",
    "\t\\end{bmatrix},\n",
    "\\end{align}\n",
    "where $S_x$ is a horizontal shear (i.e., parallel to the $x$-axis), and $S_y$ is a vertical shear (i.e., parallel to the $y$-axis).\n"
   ]
  },
  {
   "cell_type": "markdown",
   "id": "6eb0f439-037f-4f27-a24f-1c37c707688b",
   "metadata": {
    "id": "6eb0f439-037f-4f27-a24f-1c37c707688b"
   },
   "source": [
    "## Transforming a single point\n",
    "\n",
    "Consider the following scaling transformation matrix:\n",
    "\n",
    "$$\n",
    "\\begin{align}\n",
    "\tA =\n",
    "\t\\begin{bmatrix}\n",
    "\t\t2 & 0 \\\\\n",
    "\t\t0 & 3\n",
    "\t\\end{bmatrix},\n",
    "\\end{align}\n",
    "$$\n",
    "\n",
    "which we can use the matrix to transform the point ${\\bf x} = (9, 6)^\\mathsf{T}$ as follows:\n",
    "\n",
    "$$\n",
    "\\begin{align}\n",
    "\t{\\bf x}^\\prime &= A{\\bf x}  \\notag\\\\\n",
    "\t\\begin{bmatrix}\n",
    "\t\tx^\\prime \\\\\n",
    "\t\ty^\\prime\n",
    "\t\\end{bmatrix}\n",
    " \t&=\n",
    "\t\\begin{bmatrix}\n",
    "\t\t2 & 0 \\\\\n",
    "\t\t0 & 3\n",
    "\t\\end{bmatrix}\n",
    "\t\\begin{bmatrix}\n",
    "\t\t9 \\\\\n",
    "\t\t6\n",
    "\t\\end{bmatrix}\n",
    " \\notag\\\\\n",
    " \t&=\n",
    "\t\\begin{bmatrix}\n",
    "\t\t\\left(2 \\times 9\\right) + \\left(0   \\times 6\\right)\\\\\n",
    "\t\t  \\left(0 \\times 9\\right) + \\left(3 \\times 6\\right)\n",
    "\t\\end{bmatrix} \\notag\\\\\n",
    " \t&=\n",
    "\t\\begin{bmatrix}\n",
    "\t\t18\\\\\n",
    "\t\t18\n",
    "\t\\end{bmatrix}.\n",
    "\\end{align}\n",
    "$$"
   ]
  },
  {
   "cell_type": "markdown",
   "id": "214d2a02-ed25-4afd-94b0-ab0969690cc9",
   "metadata": {
    "id": "214d2a02-ed25-4afd-94b0-ab0969690cc9"
   },
   "source": [
    "### Code example"
   ]
  },
  {
   "cell_type": "code",
   "execution_count": 1,
   "id": "bd4d3155-c2bf-4f19-8079-c36827a2c924",
   "metadata": {
    "id": "bd4d3155-c2bf-4f19-8079-c36827a2c924"
   },
   "outputs": [],
   "source": [
    "import numpy as np\n",
    "import matplotlib.pyplot as plt\n",
    "import matplotlib as mpl\n",
    "import cvxopt\n",
    "from cvxopt import matrix, printing"
   ]
  },
  {
   "cell_type": "code",
   "execution_count": 2,
   "id": "c6f8556f-b01a-42e8-b62f-b711a3b8eb82",
   "metadata": {
    "colab": {
     "base_uri": "https://localhost:8080/"
    },
    "id": "c6f8556f-b01a-42e8-b62f-b711a3b8eb82",
    "outputId": "665beb8b-87a3-43d9-c4ba-9a16b19ae9b5"
   },
   "outputs": [
    {
     "name": "stdout",
     "output_type": "stream",
     "text": [
      "x = [[9]\n",
      "     [6]] \n",
      "\n",
      "A = [[2 0]\n",
      "     [0 3]] \n",
      "\n",
      "xp = [[18]\n",
      "      [18]]\n",
      "x_o = [[9.]\n",
      "       [6.]]\n"
     ]
    }
   ],
   "source": [
    "# Represent the coordinates of the point as a column matrix\n",
    "x = np.array([[9],\n",
    "              [6]])\n",
    "print('x =', np.array2string(x, prefix='    '), '\\n')\n",
    "\n",
    "# The transformation matrix\n",
    "A = np.array([[2,0],\n",
    "              [0,3]])\n",
    "print('A =', np.array2string(A, prefix='    '), '\\n')\n",
    "\n",
    "# The transformed point coordinates\n",
    "xp = A @ x\n",
    "print('xp =', np.array2string(xp, prefix='     '))\n",
    "\n",
    "A_inv = np.linalg.inv(A)\n",
    "\n",
    "x_original = A_inv @ xp\n",
    "\n",
    "print('x_o =', np.array2string(x_original, prefix='      '))\n",
    "\n"
   ]
  },
  {
   "cell_type": "code",
   "execution_count": 3,
   "id": "430e9102-3164-45e7-97df-b10300b7438a",
   "metadata": {
    "colab": {
     "base_uri": "https://localhost:8080/",
     "height": 452
    },
    "id": "430e9102-3164-45e7-97df-b10300b7438a",
    "outputId": "319e5d58-055b-41d3-d128-131a3209d44c"
   },
   "outputs": [
    {
     "data": {
      "image/png": "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",
      "text/plain": [
       "<Figure size 640x480 with 1 Axes>"
      ]
     },
     "metadata": {},
     "output_type": "display_data"
    }
   ],
   "source": [
    "# Plotting the original and transformed points.\n",
    "# Here, the points are displayed as vectors linking the origin to the point.\n",
    "\n",
    "fig = plt.figure()\n",
    "ax = fig.add_subplot(111)\n",
    "ax.set_xlim(-1,30)\n",
    "ax.set_ylim(-1,30)\n",
    "plt.grid(True)\n",
    "\n",
    "\n",
    "ax.plot(x[0,:], x[1,:], 'bo')  # plot x and y using circle markers\n",
    "ax.arrow(0,  # x1\n",
    "         0,  # y1\n",
    "         x[0,0]-0.8, # x2 - x1\n",
    "         x[1,0]-0.8, # y2 - y1\n",
    "        color='lightblue', head_width=.5)\n",
    "\n",
    "ax.plot(xp[0,:], xp[1,:], 'ro')  # plot x and y using circle markers\n",
    "ax.arrow(0,  # x1\n",
    "         0,  # y1\n",
    "         xp[0,0]-0.8, # x2 - x1\n",
    "         xp[1,0]-0.8, # y2 - y1\n",
    "         color='lightcoral', head_width=.5)\n",
    "\n",
    "\n",
    "\n",
    "\n",
    "plt.title('Transforming a single point (original: blue, transformed: red)')\n",
    "\n",
    "plt.show()"
   ]
  },
  {
   "cell_type": "markdown",
   "id": "9a554383-2d10-46a4-b4f0-9d61205c5607",
   "metadata": {
    "id": "9a554383-2d10-46a4-b4f0-9d61205c5607"
   },
   "source": [
    "The above plot shows the two points as vectors connected to the origin of the coordinate system."
   ]
  },
  {
   "cell_type": "markdown",
   "id": "6415b35f-b509-4cfd-81ea-5231dca107d9",
   "metadata": {
    "id": "6415b35f-b509-4cfd-81ea-5231dca107d9"
   },
   "source": [
    "## Transforming a polygonal shape\n",
    "\n",
    "The previous example showed how to use matrices to transform a single 2-D point. To transform a whole shape represented by a set of $n$ 2-D vertices, we can transform each individual point of the shape (i.e., vertices) by multiplying the transformation matrix by the point matrix repeatedly. Alternatively, we\n",
    "can stack the coordinates of all vertices of the shape as columns of a single matrix, and then apply the transformation just as we did before for the single-point case, i.e.:\n",
    "\n",
    "$$\n",
    "\\begin{align}\n",
    "\tX^\\prime &= A\\,X \\\\\\notag\\\\\n",
    "  \\underbrace{\\begin{bmatrix}    \n",
    "  x_1^\\prime & x_2^\\prime & \\dots &x_n^\\prime\\\\    \n",
    "  y_1^\\prime & y_2^\\prime & \\dots &y_n^\\prime  \n",
    "  \\end{bmatrix}}_{X^\\prime}   \t&=\n",
    "\t\\underbrace{\\begin{bmatrix}\n",
    "\t\ta_1 & a_2 \\\\\n",
    "\t\ta_3 & a_4\n",
    "\t\\end{bmatrix}}_{A}\\,\n",
    "\t\\underbrace{\\begin{bmatrix}\n",
    "\t\tx_1 & x_2 & \\dots &x_n\\\\\n",
    "\t\ty_1 & y_2 & \\dots &y_n\n",
    "\t\\end{bmatrix}}_{X}.\n",
    "\\end{align}\n",
    "$$\n",
    "\n",
    "Here, matrix $X^\\prime$ is the transformed shape. Computationally, this approach is usually much faster than looping through all points to transform them individually. Also, using a matrix to represent the entire shape shortens the mathematical notation.\n",
    "\n",
    "Let's see how this works numerically by transforming a rectangle described by a set of four 2-D points,\n",
    "${\\bf p}_i =\n",
    "\\left( x_i, y_i\\right)^\\mathsf{T}$, for $i=1,..., 4$. We can store\n",
    "these points in a single matrix, $X$, as follows:\n",
    "\n",
    "$$\n",
    "\\begin{align}\n",
    "  X =\n",
    "  \\begin{bmatrix}\n",
    "      {\\bf p}1 & {\\bf p}2 & {\\bf p}3 &{\\bf p}4\n",
    "  \\end{bmatrix}\n",
    "  =\n",
    "\\begin{bmatrix}\n",
    "\t 0 & 4 & 4 & 0\\\\\n",
    "\t\t0 & 0 & 2 & 2  \n",
    "\\end{bmatrix}.   \n",
    "\\end{align}\n",
    "$$\n",
    "\n",
    "We can then scale the entire shape by transforming it with the scale\n",
    "transformation from the single-point example as\n",
    "follows:\n",
    "\n",
    "$$\n",
    "\\begin{align}\n",
    " X^\\prime\n",
    " \t&=\n",
    "\t\\begin{bmatrix}\n",
    "\t\t2 & 0 \\\\\n",
    "\t\t0 & 3\n",
    "\t\\end{bmatrix}\n",
    "\t \\begin{bmatrix}      \n",
    "\t 0 & 4 & 4 & 0\\\\\n",
    "\t 0 & 0 & 2 & 2  \n",
    "\t \\end{bmatrix}\n",
    " \t=\n",
    "\t\\begin{bmatrix}\n",
    "\t 0 & 8 & 8 & 0\\\\    \n",
    "\t 0 & 0 & 6 & 6  \n",
    "\t\\end{bmatrix}.\n",
    "\\end{align}\n",
    "$$"
   ]
  },
  {
   "cell_type": "markdown",
   "id": "3ac1b6e0",
   "metadata": {
    "id": "3ac1b6e0",
    "tags": []
   },
   "source": [
    "### Code example\n",
    "\n",
    "The example is a rectangle given by four vertices."
   ]
  },
  {
   "cell_type": "code",
   "execution_count": 4,
   "id": "4b416bd6",
   "metadata": {
    "colab": {
     "base_uri": "https://localhost:8080/"
    },
    "id": "4b416bd6",
    "outputId": "cf81ed08-67b4-40cf-f278-4a8983716796"
   },
   "outputs": [
    {
     "name": "stdout",
     "output_type": "stream",
     "text": [
      "Input shape\n",
      "\n",
      "X = [[0 4 4 0 0]\n",
      "     [0 0 2 2 0]] \n",
      "\n"
     ]
    }
   ],
   "source": [
    "# Vertices of a polygon. First vertex is repeated to close the polygon\n",
    "# shape when connecting the vertices with simple lines in the plot.\n",
    "px = np.array([0, 4, 4, 0, 0]);   # x-coords\n",
    "py = np.array([0, 0, 2, 2, 0]);   # y-coords\n",
    "\n",
    "# Create a 2 x N matrix to store the coordinates of the shape\n",
    "X = np.array([px,\n",
    "              py])\n",
    "\n",
    "print(\"Input shape\\n\")\n",
    "print('X =', np.array2string(X, prefix='    '),'\\n')\n"
   ]
  },
  {
   "cell_type": "markdown",
   "id": "127697bf",
   "metadata": {
    "id": "127697bf",
    "tags": []
   },
   "source": [
    "**Helper function**: The following function displays the two shapes on a single axis for visualization purposes."
   ]
  },
  {
   "cell_type": "code",
   "execution_count": 5,
   "id": "2efde25b",
   "metadata": {
    "id": "2efde25b",
    "tags": []
   },
   "outputs": [],
   "source": [
    "# \"Helper\" function that displays two shapes.\n",
    "def plotTwoPolygons(X1: np.ndarray = np.array([]),\n",
    "                    X2: np.ndarray = np.array([]),\n",
    "                    plot_title: str = None, fill = True):\n",
    "    \"\"\"\n",
    "    Plots two polygons. It is just a helper function to show the\n",
    "    difference between the original 2-D shape and its transformed\n",
    "    version after some linear transformation.\n",
    "\n",
    "    Parameters\n",
    "    ----------\n",
    "    X1: numpy.ndarray, shape=(2, N)\n",
    "        2 x N array containing the (x, y) coordinates of a polygon\n",
    "\n",
    "    X2: numpy.ndarray, shape=(2, N)\n",
    "        2 x N array containing the (x, y) coordinates of a polygon\n",
    "\n",
    "    Returns\n",
    "    -------\n",
    "    Nothing.\n",
    "\n",
    "    \"\"\"\n",
    "\n",
    "    fig = plt.figure()\n",
    "    ax = fig.add_subplot(111)\n",
    "    ax.set_xlim(-1,10)\n",
    "    ax.set_ylim(-1,10)\n",
    "    plt.grid(True)\n",
    "\n",
    "    if X1.size != 0:\n",
    "        if fill:\n",
    "            poly1 = mpl.patches.Polygon(X1.transpose(),fc='blue',alpha=.5,zorder=1,lw=3,edgecolor='b')\n",
    "        else:\n",
    "            poly1 = mpl.patches.Polygon(X1.transpose(),fc='none',alpha=.7, zorder=1,lw=3,edgecolor='b')\n",
    "\n",
    "        ax.add_patch(poly1)\n",
    "        ax.plot(X1[0,:], X1[1,:], 'bo')  # plot x and y using circle markers\n",
    "\n",
    "\n",
    "    if X2.size != 0:\n",
    "        if fill:\n",
    "            poly2 = mpl.patches.Polygon(X2.transpose(),fc='red',alpha=.5,zorder=99,lw=3,edgecolor='r')\n",
    "        else:\n",
    "            poly2 = mpl.patches.Polygon(X2.transpose(),fc='none',alpha=.3,zorder=99,lw=3,edgecolor='r')\n",
    "\n",
    "\n",
    "\n",
    "        ax.add_patch(poly2)\n",
    "        ax.plot(X2[0,:], X2[1,:], 'ro')  # plot x and y using circle markers\n",
    "\n",
    "\n",
    "    plt.title(plot_title)\n",
    "\n",
    "    plt.show()"
   ]
  },
  {
   "cell_type": "code",
   "execution_count": 6,
   "id": "5c0e1114",
   "metadata": {
    "colab": {
     "base_uri": "https://localhost:8080/",
     "height": 452
    },
    "id": "5c0e1114",
    "outputId": "4621c606-f12b-4061-d3b3-d5d057fb92fe"
   },
   "outputs": [
    {
     "data": {
      "image/png": "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",
      "text/plain": [
       "<Figure size 640x480 with 1 Axes>"
      ]
     },
     "metadata": {},
     "output_type": "display_data"
    }
   ],
   "source": [
    "# Plot the orginal shape\n",
    "plotTwoPolygons(X1 = X, plot_title = \"Original shape\", fill=False)"
   ]
  },
  {
   "cell_type": "code",
   "execution_count": 7,
   "id": "2d5a9f62-36b7-4800-ba71-e9d54c990943",
   "metadata": {
    "colab": {
     "base_uri": "https://localhost:8080/"
    },
    "id": "2d5a9f62-36b7-4800-ba71-e9d54c990943",
    "outputId": "f00ce105-14f1-4601-e009-ebb6b4a96fdf"
   },
   "outputs": [
    {
     "name": "stdout",
     "output_type": "stream",
     "text": [
      "Transformed points:\n",
      "\n",
      "Xp = [[0 8 8 0 0]\n",
      "      [0 0 6 6 0]] \n",
      "\n"
     ]
    }
   ],
   "source": [
    "# Apply the transformation to the whole polygon\n",
    "Xp = A @ X\n",
    "\n",
    "print(\"Transformed points:\\n\")\n",
    "print('Xp =', np.array2string(Xp, prefix='     '),'\\n')"
   ]
  },
  {
   "cell_type": "code",
   "execution_count": 8,
   "id": "f4955f8d-dc0f-41c0-88fc-66841e2bf1fa",
   "metadata": {
    "colab": {
     "base_uri": "https://localhost:8080/",
     "height": 452
    },
    "id": "f4955f8d-dc0f-41c0-88fc-66841e2bf1fa",
    "outputId": "a4abec8f-714b-4b49-a401-d4104b4c447b"
   },
   "outputs": [
    {
     "data": {
      "image/png": "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",
      "text/plain": [
       "<Figure size 640x480 with 1 Axes>"
      ]
     },
     "metadata": {},
     "output_type": "display_data"
    }
   ],
   "source": [
    "# Plot the original and the transformed shape\n",
    "plotTwoPolygons(X1 = X, X2 = Xp, plot_title = \"Original and transformed shape\", fill=False)"
   ]
  },
  {
   "cell_type": "markdown",
   "id": "ebb4136b",
   "metadata": {
    "id": "ebb4136b"
   },
   "source": [
    "## Composing linear transformations\n",
    "\n",
    "The equation of a linear geometric transformation can be written concisely using matrix multiplication. For instance, the following transformation maps a\n",
    "vector ${\\bf x}$ onto a vector ${\\bf x}^\\prime$:\n",
    "\n",
    "$$\n",
    "\\begin{align}\n",
    "    {\\bf x}^\\prime = SR\\,{\\bf x},\n",
    "\\end{align}\n",
    "$$\n",
    "\n",
    "where $S$ is a scaling matrix and $R$ is a rotation matrix. In 2-D, the scaling and rotation are given by the following matrices:\n",
    "\n",
    "$$\n",
    "\\begin{align}\n",
    "S = \\left[\n",
    "\\begin{array}{c}\n",
    "   s_x & 0 \\\\\n",
    "   0 & s_y\n",
    "\\end{array}\n",
    "\\right] \\,\\,\\,\\,\\text{and} \\,\\,\\,\n",
    "R= \\left[\n",
    "    \\begin{array}{c}\n",
    "        \\cos\\theta & -\\sin\\theta\\\\\n",
    "        \\sin\\theta & \\cos\\theta\n",
    "    \\end{array}\n",
    "\\right].\n",
    "\\end{align}\n",
    "$$\n",
    "\n",
    "\n",
    "\n",
    "\n",
    "\n",
    "\n",
    "\n",
    "\n",
    "Matrices $S$ and $R$ represent linear transformations, and so does the composition $SR$. Here, the rotation transformation is applied to  vector ${\\bf x}$ first, and then the scaling transformation is applied to the rotated vector.  \n",
    "\n",
    "Using this compact form of the transformation matrix simplifies both its computation and notation. For example, we can change the order in which the transformations are applied by simply changing the order of multiplication, i.e.:  \n",
    "\n",
    "$$\n",
    "\\begin{align}\n",
    "    {\\bf x}^{\\prime\\prime} = RS\\,{\\bf x}.\n",
    "\\end{align}\n",
    "$$\n",
    "\n",
    "In this case, the scaling transformation is applied to vector ${\\bf x}$ first, and then the rotation transformation is applied to the scaled vector.\n",
    "\n",
    "The inverse transformation is another operation that we can do easily when using matrices to represent linear transformations. The inverse\n",
    "of ${\\bf x}^\\prime = SR\\,{\\bf x}$ can be written as:\n",
    "\n",
    "$$\n",
    "\\begin{align}\n",
    "    {\\bf x} = (SR)^{-1}\\,{\\bf x}^\\prime = (R^{-1}S^{-1})\\,{\\bf x}^\\prime.\n",
    "\\end{align}\n",
    "$$"
   ]
  },
  {
   "cell_type": "markdown",
   "id": "cc41ae11",
   "metadata": {
    "id": "cc41ae11",
    "tags": []
   },
   "source": [
    "## Affine transformations\n",
    "\n",
    "However, the notation compactness of matrix multiplication \"breaks\" if the transformation includes a translation vector ${\\bf t}$ as it happens in the case of affine transformations. An affine transformation includes a linear component and a translation component and is written as follows:\n",
    "\n",
    "$$\n",
    "\\begin{align}\n",
    "    {\\bf x}^\\prime = A{\\bf x} + {\\bf t}.\n",
    "\\end{align}\n",
    "$$\n",
    "\n",
    "In 2-D, the matrix form of the affine transformation can be written explicitly\n",
    "as:\n",
    "\n",
    "$$\n",
    "\\begin{align}\n",
    "    \\left[\\begin{array}{c}\t\tx^\\prime \\\\\t\ty^\\prime\\end{array}\\right] = \\left[\\begin{array}{c}\n",
    "    a_1 & a_2 \\\\\t\ta_3 & a_4\\end{array}\\right]\\left[\\begin{array}{c}    x \\\\        \n",
    "    y\\end{array}\\right]+\\left[\\begin{array}{c}    t_x \\\\        t_y\\end{array}\\right].\n",
    "\\end{align}\n",
    "$$\n",
    "\n",
    "Because the affine transformation combines a multiplication followed by a addition, its equation can no longer be represented by a single matrix or by multiplications only. Instead, we have to mix a matrix multiplication and vector addition (i.e., column matrix representing the translation vector).  "
   ]
  },
  {
   "cell_type": "markdown",
   "id": "cd280b67-4647-4c6f-9782-eba23cd09566",
   "metadata": {
    "id": "cd280b67-4647-4c6f-9782-eba23cd09566"
   },
   "source": [
    "### Code example"
   ]
  },
  {
   "cell_type": "code",
   "execution_count": 9,
   "id": "2f40a66b",
   "metadata": {
    "id": "2f40a66b"
   },
   "outputs": [],
   "source": [
    "import numpy as np\n",
    "import matplotlib.pyplot as plt\n",
    "import matplotlib as mpl\n",
    "\n",
    "#from shapely.geometry.polygon import Polygon\n",
    "#import shapely.ops as so\n",
    "#import geopandas as gpd\n",
    "#from shapely import MultiPolygon\n",
    "#from shapely.plotting import plot_polygon, plot_points"
   ]
  },
  {
   "cell_type": "markdown",
   "id": "f399c6bd",
   "metadata": {
    "id": "f399c6bd"
   },
   "source": [
    "\n",
    "Transformations implemented are Scaling, Rotation, and translation."
   ]
  },
  {
   "cell_type": "code",
   "execution_count": 10,
   "id": "2bef6045",
   "metadata": {
    "colab": {
     "base_uri": "https://localhost:8080/"
    },
    "id": "2bef6045",
    "outputId": "6a5b2b37-b416-41fd-ee26-f54e77fd3845"
   },
   "outputs": [
    {
     "name": "stdout",
     "output_type": "stream",
     "text": [
      "Scaling matrix =\n",
      " [[2. 0.]\n",
      " [0. 1.]]\n",
      "\n",
      "Rotation matrix =\n",
      " [[ 0.92387953 -0.38268343]\n",
      " [ 0.38268343  0.92387953]]\n",
      "\n",
      "Translation vector =\n",
      " [[2]\n",
      " [3]]\n"
     ]
    }
   ],
   "source": [
    "# An example of an affine transformation\n",
    "# Scaling transformation (explicit form)\n",
    "S = np.array([[2.0, 0.0],\n",
    "             [0.0, 1.0]])\n",
    "S\n",
    "\n",
    "# Rotation\n",
    "theta = np.pi/8.0\n",
    "R = np.array([[ np.cos(theta), -np.sin(theta)],\n",
    "              [ np.sin(theta),  np.cos(theta)]])\n",
    "\n",
    "# Translation part of the affine transformation\n",
    "t = np.array([ [2],\n",
    "               [3] ] )\n",
    "\n",
    "print(\"Scaling matrix =\\n\", S)\n",
    "print(\"\")\n",
    "print(\"Rotation matrix =\\n\", R)\n",
    "print(\"\")\n",
    "print(\"Translation vector =\\n\", t)"
   ]
  },
  {
   "cell_type": "markdown",
   "id": "39929e18",
   "metadata": {
    "id": "39929e18"
   },
   "source": [
    "### Apply transformation to shape\n",
    "The transformations that we will apply to the rectangle is a Rotation followed by a Scaling and then a Translation, i.e.:\n",
    "\n",
    "$$\n",
    "\\begin{align}\n",
    "    {\\bf x}^\\prime = (SR)\\,{\\bf x} + {\\bf t}\n",
    "\\end{align}\n",
    "$$"
   ]
  },
  {
   "cell_type": "code",
   "execution_count": 11,
   "id": "43805a4f",
   "metadata": {
    "colab": {
     "base_uri": "https://localhost:8080/"
    },
    "id": "43805a4f",
    "outputId": "248504a7-4a46-4ca4-f616-91f4a5262360"
   },
   "outputs": [
    {
     "name": "stdout",
     "output_type": "stream",
     "text": [
      "Transformed points:\n"
     ]
    },
    {
     "data": {
      "text/plain": [
       "array([[2.        , 9.39103626, 7.86030253, 0.46926627, 2.        ],\n",
       "       [3.        , 4.53073373, 6.37849279, 4.84775907, 3.        ]])"
      ]
     },
     "execution_count": 11,
     "metadata": {},
     "output_type": "execute_result"
    }
   ],
   "source": [
    "Xp = (S @ R) @ X + t\n",
    "print(\"Transformed points:\")\n",
    "Xp"
   ]
  },
  {
   "cell_type": "code",
   "execution_count": 12,
   "id": "84761059",
   "metadata": {
    "colab": {
     "base_uri": "https://localhost:8080/",
     "height": 452
    },
    "id": "84761059",
    "outputId": "1b465005-746a-43c7-e9a9-3418c810627d"
   },
   "outputs": [
    {
     "data": {
      "image/png": "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",
      "text/plain": [
       "<Figure size 640x480 with 1 Axes>"
      ]
     },
     "metadata": {},
     "output_type": "display_data"
    }
   ],
   "source": [
    "# Plot the original and the transformed shape\n",
    "plotTwoPolygons(X1 = X, X2 = Xp, plot_title = \"Original and transformed shape\")"
   ]
  },
  {
   "cell_type": "markdown",
   "id": "be2cd5e9",
   "metadata": {
    "id": "be2cd5e9"
   },
   "source": [
    "### Example using the inverse affine transformation\n",
    "\n",
    "To see how the inclusion of the translation further complicates the matrix notation, let us calculate the inverse of the affine transformation in the previous equation. The inverse of ${\\bf x}^\\prime = (SR)\\,{\\bf x} + {\\bf t}$ is:\n",
    "$$\n",
    "\\begin{align}\n",
    "{\\bf x} &= (SR)^{-1}\\left({\\bf x}^\\prime - {\\bf t}\\right) \\\\\n",
    "        &= R^{-1}S^{-1}\\left({\\bf x}^\\prime - {\\bf t}\\right) \\\\\n",
    "        &= R^{-1}S^{-1}{\\bf x}^\\prime - R^{-1}S^{-1}{\\bf t}.\n",
    "        \\label{inverseT}\n",
    "\\end{align}\n",
    "$$\n",
    "\n",
    "With this inverse equation, we can go from the transformed shape back to the original shape. Let's do exactly that in the next example."
   ]
  },
  {
   "cell_type": "code",
   "execution_count": 13,
   "id": "eb06309f",
   "metadata": {
    "colab": {
     "base_uri": "https://localhost:8080/"
    },
    "id": "eb06309f",
    "outputId": "d1d9598c-e5b2-4076-af95-73450b57b355"
   },
   "outputs": [
    {
     "name": "stdout",
     "output_type": "stream",
     "text": [
      "Shape to be transformed:\n"
     ]
    },
    {
     "data": {
      "text/plain": [
       "array([[2.        , 9.39103626, 7.86030253, 0.46926627, 2.        ],\n",
       "       [3.        , 4.53073373, 6.37849279, 4.84775907, 3.        ]])"
      ]
     },
     "execution_count": 13,
     "metadata": {},
     "output_type": "execute_result"
    }
   ],
   "source": [
    "# Input shape is the transformed shape from the previous example\n",
    "print(\"Shape to be transformed:\")\n",
    "Xp"
   ]
  },
  {
   "cell_type": "code",
   "execution_count": 14,
   "id": "989d12d4",
   "metadata": {
    "colab": {
     "base_uri": "https://localhost:8080/",
     "height": 452
    },
    "id": "989d12d4",
    "outputId": "a114a387-b7f2-4705-8270-faf16ba1d4a6"
   },
   "outputs": [
    {
     "data": {
      "image/png": "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",
      "text/plain": [
       "<Figure size 640x480 with 1 Axes>"
      ]
     },
     "metadata": {},
     "output_type": "display_data"
    }
   ],
   "source": [
    "# This time, let's display the transformed shape in blue to indicate that it is our start shape, before transformation.\n",
    "plotTwoPolygons(X1 = Xp, plot_title = \"Original shape is the transformed shape from the previous example\")"
   ]
  },
  {
   "cell_type": "code",
   "execution_count": 15,
   "id": "bc2d6765",
   "metadata": {
    "colab": {
     "base_uri": "https://localhost:8080/"
    },
    "id": "bc2d6765",
    "outputId": "5c33f46b-18ca-4a5b-b237-c0401cd6a577"
   },
   "outputs": [
    {
     "name": "stdout",
     "output_type": "stream",
     "text": [
      "This is the shape resulting from the inverse affine transformation:\n",
      "\n",
      "Xi =\n",
      " [[0.0000000e+00 4.0000000e+00 4.0000000e+00 4.4408921e-16 0.0000000e+00]\n",
      " [0.0000000e+00 4.4408921e-16 2.0000000e+00 2.0000000e+00 0.0000000e+00]]\n"
     ]
    }
   ],
   "source": [
    "# Calculate the shape produced by the inverse affine\n",
    "Xi = np.linalg.inv(R) @ np.linalg.inv(S) @ Xp - np.linalg.inv(R) @ np.linalg.inv(S) @ t\n",
    "\n",
    "# Transform this shape using the inverse affine matrix\n",
    "print('This is the shape resulting from the inverse affine transformation:\\n')\n",
    "print('Xi =\\n', Xi)"
   ]
  },
  {
   "cell_type": "code",
   "execution_count": 16,
   "id": "8c8f5569",
   "metadata": {
    "colab": {
     "base_uri": "https://localhost:8080/",
     "height": 452
    },
    "id": "8c8f5569",
    "outputId": "99b1a531-81da-48a0-eee9-eabf7f04fe96"
   },
   "outputs": [
    {
     "data": {
      "image/png": "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",
      "text/plain": [
       "<Figure size 640x480 with 1 Axes>"
      ]
     },
     "metadata": {},
     "output_type": "display_data"
    }
   ],
   "source": [
    "# Display both shapes (original and transformed)\n",
    "plotTwoPolygons(X1 = Xp, X2 = Xi, plot_title = \"Inverse transformation recovers the original shape\")"
   ]
  },
  {
   "cell_type": "markdown",
   "id": "5d13fd14",
   "metadata": {
    "id": "5d13fd14"
   },
   "source": [
    "## Representing transformation matrices using homogeneous coordinates\n",
    "In the previous examples, we were using *Cartesian coordinates* (https://en.wikipedia.org/wiki/Cartesian_coordinate_system) to represent the points (and shapes) to be transformed. Instead of using Cartesian coordinates, we can use *Homogeneous coordinates* to create a concise matrix notation of the affine transformation. This is done\n",
    "by augmenting the Cartesian coordinates with an extra non-zero coordinate value,\n",
    "which, for simplicity, is usually chosen to be 1.\n",
    "\n",
    "To convert points from Cartesian to Homogeneous coordinates, we simply augment the original vector by adding 1 as an extra coordinate (i.e.,\n",
    "dimension), i.e.:\n",
    "\n",
    "$$\n",
    "\\left[\\begin{array}{c}\n",
    "    x \\\\\t\ty\n",
    "\\end{array}\\right]\n",
    "\\rightarrow\\lambda\\left[\n",
    "\\begin{array}{c}\n",
    "    x \\\\\t\ty \\\\                1\n",
    "\\end{array}\\right].\n",
    "$$\n",
    "\n",
    "To convert homogenous coordinates back to Cartesian, we need only to divide the homogeneous coordinates as follows:\n",
    "\n",
    "$$\\lambda\\left[\\begin{array}{c}\t\tx \\\\\t\ty \\\\                1\\end{array}\\right]\\rightarrow\\left[\\begin{array}{c}\n",
    "x / \\lambda\\\\\t\ty / \\lambda\\end{array}\\right]. $$\n",
    "\n",
    "Because, we augmented the vectors, we must also augment the transformation\n",
    "matrices that will act on those vectors.\n"
   ]
  },
  {
   "cell_type": "markdown",
   "id": "cf9b8d26",
   "metadata": {
    "id": "cf9b8d26"
   },
   "source": [
    "### The affine transformation in homogeneous coordinates\n",
    "We now repeat our previous examples of affine transformations but this\n",
    "time using homogeneous coordinates instead of Cartesian. The 2-D affine transformation\n",
    "in homogeneous coordinates is given by:\n",
    "\n",
    "$$\n",
    "\\begin{align}\n",
    "\\left[\\begin{array}{c}\t\tx^\\prime \\\\\t\ty^\\prime \\\\                 1\n",
    "\\end{array}\\right]\n",
    "= \\left[\\begin{array}{c}\t\ta_1 & a_2  & t_x\\\\\t\ta_3 & a_4  & t_y\\\\                  \n",
    "0  &   0    &   1\\end{array}\\right]\\left[\\begin{array}{c}    x \\\\        y \\\\    \n",
    "1\\end{array}\\right].\n",
    "\\end{align}\n",
    "$$\n",
    "\n",
    "This single matrix in homogeneous coordinates incorporates both the linear\n",
    "part of the affine and its translation.\n",
    "\n",
    "\n",
    "### Scaling\n",
    "In homogeneous coordinates, the scaling\n",
    "matrix is given by:\n",
    "\n",
    "$$\n",
    "\\begin{align}\n",
    "S_h = \\left[\n",
    "\\begin{array}{c}\n",
    "   s_x & 0  &  0\\\\\n",
    "   0 & s_y  &  0\\\\                  \n",
    "   0  & 0  &   1\n",
    "    \\end{array}\n",
    "    \\right].\n",
    "\\end{align}\n",
    "$$\n",
    "\n",
    "### Rotation\n",
    "The rotation in homegeneous coordinates is given by:\n",
    "\n",
    "$$\n",
    "\\begin{align}\n",
    "    R_h= \\left[\\begin{array}{c}\t\t\\cos\\theta & -\\sin\\theta & 0 \\\\\t\t\\sin\\theta\n",
    "    & \\cos\\theta & 0 \\\\\t\t0 & 0 & 1 \\end{array}\\right].\n",
    "\\end{align}\n",
    "$$\n",
    "\n",
    "\n",
    "### Translation\n",
    "\n",
    "Most importantly, we can now also represent the translation as a matrix, which\n",
    "is something that we could not do in Cartesian coordinates. The matrix of the 2-D translation  in homogeneous coordinates is given by:\n",
    "\n",
    "$$\n",
    "\\begin{align}\n",
    "T_h = \\left[\\begin{array}{c}\t\t1 & 0 & t_x \\\\\t\t0 & 1 & t_y \\\\\t\t0 & 0 & 1 \\end{array}\\right].\n",
    "\\end{align}\n",
    "$$\n",
    "\n",
    "\n",
    "In homogeneous coordinates, we can write compositions and inverses of\n",
    "transformations more concisely than in Cartesian coordinates. For example, the transformation:\n",
    "\n",
    "\n",
    "$$\n",
    "\\begin{align}\n",
    "\t{\\bf x}^\\prime = SR\\,{\\bf x} + {\\bf t},  \n",
    "\\end{align}\n",
    "$$\n",
    "\n",
    "can be written in homogeneous coordinates as:\n",
    "\n",
    "$$\n",
    "\\begin{align}\n",
    "\t\\tilde{\\bf x}^\\prime = T_hS_hR_h\\,\\tilde{\\bf x}.\n",
    "\\end{align}\n",
    "$$\n",
    "\n",
    "\n",
    "Its inverse would be simply:\n",
    "\n",
    "$$\n",
    "\\begin{align}\n",
    " \\tilde{\\bf x}   &= \\left(T_h\\,S_h\\,R_h\\right)^{-1}\\,\\tilde{\\bf x}^\\prime \\\\\n",
    "                 &= R_h^{-1}\\,S_h^{-1}\\,T_h^{-1}\\,\\tilde{\\bf x}^\\prime.\n",
    "\\end{align}\n",
    "$$\n",
    "\n",
    "In these equations, the subscript $h$ is being used to indicate the homogeneous\n",
    "version of the transformation. However, we do not usually explicitly differentiate\n",
    "the transformations.  "
   ]
  },
  {
   "cell_type": "markdown",
   "id": "442b4240",
   "metadata": {
    "id": "442b4240"
   },
   "source": [
    "### Code example"
   ]
  },
  {
   "cell_type": "code",
   "execution_count": 17,
   "id": "f5117627",
   "metadata": {
    "colab": {
     "base_uri": "https://localhost:8080/"
    },
    "id": "f5117627",
    "outputId": "bb471ae9-d60e-4ee0-aade-3ce15bb216d7"
   },
   "outputs": [
    {
     "name": "stdout",
     "output_type": "stream",
     "text": [
      "2-D Scaling in homogeneous coordinates:\n",
      "\n",
      "S_h =  [[2. 0. 0.]\n",
      "        [0. 1. 0.]\n",
      "        [0. 0. 1.]]\n",
      "\n",
      "2-D Rotation in homogeneous coordinates:\n",
      "\n",
      "R_h =  [[ 0.92387953 -0.38268343  0.        ]\n",
      "        [ 0.38268343  0.92387953  0.        ]\n",
      "        [ 0.          0.          1.        ]]\n",
      "\n",
      "2-D Translation in homogeneous coordinates:\n",
      "\n",
      "T_h =  [[1. 0. 2.]\n",
      "        [0. 1. 3.]\n",
      "        [0. 0. 1.]]\n"
     ]
    }
   ],
   "source": [
    "# An example of an affine transformation in homogeneous coordinates (using block notation of matrices).\n",
    "# I am re-using and augmenting the previous transformation matrices.\n",
    "\n",
    "# Scaling\n",
    "S_h = np.block([[S,                np.zeros((2, 1))],\n",
    "                [np.zeros((1, 2)),                1]])\n",
    "\n",
    "\n",
    "\n",
    "print('2-D Scaling in homogeneous coordinates:\\n')\n",
    "print('S_h = ', np.array2string(S_h, prefix='Array: '))\n",
    "\n",
    "# Rotation\n",
    "R_h = np.block([[R,                np.zeros((2, 1))],\n",
    "                [np.zeros((1, 2)),                1]])\n",
    "\n",
    "print('\\n2-D Rotation in homogeneous coordinates:\\n')\n",
    "print('R_h = ', np.array2string(R_h, prefix='Array: '))\n",
    "\n",
    "# Translation\n",
    "T_h = np.block([[np.eye(2,2),                     t],\n",
    "                [np.zeros((1, 2)),                1]])\n",
    "\n",
    "\n",
    "\n",
    "print('\\n2-D Translation in homogeneous coordinates:\\n')\n",
    "print('T_h = ', np.array2string(T_h, prefix='Array: '))\n",
    "\n",
    "\n"
   ]
  },
  {
   "cell_type": "markdown",
   "id": "37b7b660",
   "metadata": {
    "id": "37b7b660"
   },
   "source": [
    "Here, we will use the same shape(s) as in the previous examples."
   ]
  },
  {
   "cell_type": "code",
   "execution_count": 18,
   "id": "2e1c0ac8",
   "metadata": {
    "colab": {
     "base_uri": "https://localhost:8080/"
    },
    "id": "2e1c0ac8",
    "outputId": "beac3bda-f204-4017-affe-2f94bbacc6cc"
   },
   "outputs": [
    {
     "name": "stdout",
     "output_type": "stream",
     "text": [
      "Input shape: \n",
      "\n",
      "X = [[0 4 4 0 0]\n",
      "     [0 0 2 2 0]]\n"
     ]
    }
   ],
   "source": [
    "print(\"Input shape: \\n\")\n",
    "print('X =', np.array2string(X, prefix='    '))"
   ]
  },
  {
   "cell_type": "code",
   "execution_count": 19,
   "id": "5bd99a51",
   "metadata": {
    "colab": {
     "base_uri": "https://localhost:8080/",
     "height": 452
    },
    "id": "5bd99a51",
    "outputId": "a1b6b7f3-35c2-46ce-c3de-16b2c05ab1b1"
   },
   "outputs": [
    {
     "data": {
      "image/png": "iVBORw0KGgoAAAANSUhEUgAAAigAAAGzCAYAAAAFROyYAAAAOXRFWHRTb2Z0d2FyZQBNYXRwbG90bGliIHZlcnNpb24zLjguMiwgaHR0cHM6Ly9tYXRwbG90bGliLm9yZy8g+/7EAAAACXBIWXMAAA9hAAAPYQGoP6dpAAAn9ElEQVR4nO3de3RU5b3/8c/kNgmQUBIwJJBAUES5CBKECgqiYOSAwLHS4zGwIlC1GoSYSkVa5CoRsJwochGOgl0VxKMgVouSIk3KErmExmsFqYFy8ACGQAYSDcNk//7Ij6ljgkDYM/NkeL/WYtHs2cz+5lnTyds9eyYOy7IsAQAAGCQs2AMAAAD8EIECAACMQ6AAAADjECgAAMA4BAoAADAOgQIAAIxDoAAAAOMQKAAAwDgECgAAMA6BAoSgGTNmyOFwNOjfrlq1Sg6HQ/v377d3qO/Zv3+/HA6HVq1adcn3dd9996lZs2aXPhQAoxAogEE+++wzjR49Wm3atJHT6VRycrIyMzP12WefBXs0AAgoAgUwxLp169SzZ09t3rxZY8eO1ZIlSzR+/Hht2bJFPXv21Pr16y/4vn7729/q22+/bdAcY8aM0bfffqt27do16N8DgB0igj0AAOkf//iHxowZow4dOqioqEitWrXy3jZp0iTdfPPNGjNmjD7++GN16NDhnPdTWVmppk2bKiIiQhERDfu/d3h4uMLDwxv0bwHALpxBAQywYMECVVVVafny5T5xIkktW7bUCy+8oMrKSs2fP9+7/ex1Jp9//rnuvfdetWjRQjfddJPPbd/37bffauLEiWrZsqViY2M1fPhwHTp0SA6HQzNmzPDuV981KO3bt9ewYcO0detW9e7dW9HR0erQoYN+//vf+xyjvLxcjz32mLp166ZmzZopLi5OQ4YM0UcffdSgdXG73Zo5c6Y6duyo6OhoJSQk6KabblJBQUGdfQ8dOqSRI0eqWbNmatWqlR577DF5PB6ffZ555hn17dtXCQkJiomJUXp6ul5//fU69+VwODRhwgS98sor6tSpk6Kjo5Wenq6ioqJ6jztu3DglJibK6XSqS5cueumllxr0/QL4F86gAAb44x//qPbt2+vmm2+u9/b+/furffv2euedd+rcNmrUKHXs2FFz586VZVnnPMZ9992n1157TWPGjNFPf/pTFRYWaujQoRc84759+3T33Xdr/PjxysrK0ksvvaT77rtP6enp6tKliyTpq6++0ptvvqlRo0YpLS1NR44c0QsvvKABAwbo888/V3Jy8gUfT6oNrby8PP3iF79Q79695XK5tGvXLu3evVuDBw/27ufxeJSRkaE+ffromWee0Z///Gf97ne/05VXXqmHHnrIu9+zzz6r4cOHKzMzU6dPn9arr76qUaNG6e23366zFoWFhVq7dq0mTpwop9OpJUuW6I477tCOHTvUtWtXSdKRI0f005/+1Bs0rVq10saNGzV+/Hi5XC7l5ORc1PcL4HssAEF14sQJS5I1YsSIH91v+PDhliTL5XJZlmVZ06dPtyRZ//mf/1ln37O3nVVcXGxJsnJycnz2u++++yxJ1vTp073bVq5caUmySktLvdvatWtnSbKKioq8244ePWo5nU7rV7/6lXfbd999Z3k8Hp9jlJaWWk6n05o1a5bPNknWypUrf/R77t69uzV06NAf3ScrK8uS5HP/lmVZ119/vZWenu6zraqqyufr06dPW127drVuvfVWn+2SLEnWrl27vNsOHDhgRUdHW//+7//u3TZ+/HgrKSnJKisr8/n399xzj9W8efM6xwNw4XiJBwiykydPSpJiY2N/dL+zt7tcLp/tv/zlL897jHfffVeS9PDDD/tsf+SRRy54zs6dO/uc4WnVqpU6deqkr776yrvN6XQqLKz2acXj8ejYsWNq1qyZOnXqpN27d1/wsc76yU9+os8++0xffvnleff94TrcfPPNPrNJUkxMjPd/Hz9+XBUVFbr55pvrne3GG29Uenq69+vU1FSNGDFC7733njwejyzL0htvvKE777xTlmWprKzM+ycjI0MVFRUN+p4B1OIlHiDIzobH2VA5l3OFTFpa2nmPceDAAYWFhdXZ96qrrrrgOVNTU+tsa9GihY4fP+79uqamRs8++6yWLFmi0tJSn2tAEhISLvhYZ82aNUsjRozQ1Vdfra5du+qOO+7QmDFjdN111/nsFx0dXefanR/OJklvv/225syZo5KSElVXV3u31/eZMR07dqyz7eqrr1ZVVZW++eYbhYWF6cSJE1q+fLmWL19e7/xHjx694O8VgC8CBQiy5s2bKykpSR9//PGP7vfxxx+rTZs2iouL89n+/bMC/nSud/ZY37vuZe7cuZo2bZrGjRun2bNnKz4+XmFhYcrJyVFNTc1FH7N///76xz/+oQ0bNmjTpk367//+b/3Xf/2Xli1bpl/84hfnne37/vrXv2r48OHq37+/lixZoqSkJEVGRmrlypVavXr1Rc929vsZPXq0srKy6t3nhyEF4MIRKIABhg0bphUrVmjr1q3ed+J831//+lft379fDz74YIPuv127dqqpqVFpaanPmYF9+/Y1eOb6vP766xo4cKBefPFFn+0nTpxQy5YtG3Sf8fHxGjt2rMaOHatTp06pf//+mjFjhk+gXIg33nhD0dHReu+99+R0Or3bV65cWe/+9b2stHfvXjVp0sR7tiY2NlYej0eDBg26qFkAnB/XoAAGmDx5smJiYvTggw/q2LFjPreVl5frl7/8pZo0aaLJkyc36P4zMjIkSUuWLPHZvmjRooYNfA7h4eF13kn0P//zPzp06FCD7u+Ha9GsWTNdddVVPi/PXMxsDofD52Wn/fv3680336x3/23btvlcQ3Lw4EFt2LBBt99+u/ezYn72s5/pjTfe0Kefflrn33/zzTcXPSOAf+EMCmCAjh076uWXX1ZmZqa6deum8ePHKy0tTfv379eLL76osrIyrVmzRldeeWWD7j89PV0/+9nPlJ+fr2PHjnnfZrx3715J9V+D0RDDhg3TrFmzNHbsWPXt21effPKJXnnllR/9cLkf07lzZ91yyy1KT09XfHy8du3apddff10TJky46PsaOnSoFi5cqDvuuEP33nuvjh49qsWLF+uqq66q9+W1rl27KiMjw+dtxpI0c+ZM7z5PP/20tmzZoj59+uj+++9X586dVV5ert27d+vPf/6zysvLG/R9AyBQAGOMGjVK11xzjfLy8rxRkpCQoIEDB2rq1Knez95oqN///vdq3bq11qxZo/Xr12vQoEFau3at94PI7DB16lRVVlZq9erVWrt2rXr27Kl33nlHU6ZMadD9TZw4UW+99ZY2bdqk6upqtWvXTnPmzGnQmaRbb71VL774op5++mnl5OQoLS1N8+bN0/79++sNlAEDBujGG2/UzJkz9c9//lOdO3fWqlWrfK4rSUxM1I4dOzRr1iytW7dOS5YsUUJCgrp06aJ58+Y16HsGUMth/fB8LIDLRklJia6//nr94Q9/UGZmZrDHMYbD4VB2draef/75YI8CXLa4BgW4TNT3ywPz8/MVFham/v37B2EiADg3XuIBLhPz589XcXGxBg4cqIiICG3cuFEbN27UAw88oJSUlGCPBwA+CBTgMtG3b18VFBRo9uzZOnXqlFJTUzVjxgz95je/CfZoAFDHRV+DUlRUpAULFqi4uFj/93//p/Xr12vkyJHe2y3L0vTp07VixQqdOHFC/fr109KlS+v9VEYAAID6XPQ1KJWVlerevbsWL15c7+3z58/Xc889p2XLlmn79u1q2rSpMjIy9N13313ysAAA4PJwSe/icTgcPmdQLMtScnKyfvWrX+mxxx6TJFVUVCgxMVGrVq3SPffcY8vQAAAgtNl6DUppaakOHz7s87HPzZs3V58+fbRt27Z6A6W6utrnUyFrampUXl6uhIQE2z48CgAA+JdlWTp58qSSk5O9v9X8UtgaKIcPH5ZU++FF35eYmOi97Yfy8vJ8PpkRAAA0XgcPHlTbtm0v+X6C/i6eJ554Qrm5ud6vKyoqlJqaqtLS0jq/Vt5UbrdbW7Zs0cCBAxUZGRnscUIaax0YrHNgsM6BwToHRnl5ua6++mrbfnbbGiitW7eWJB05ckRJSUne7UeOHFGPHj3q/TdOp9PnN4ueFR8fX+fXypvK7XarSZMmSkhI4MHvZ6x1YLDOgcE6BwbrHFh2XZ5h6yfJpqWlqXXr1tq8ebN3m8vl0vbt23XjjTfaeSgAABDCLvoMyqlTp7Rv3z7v16WlpSopKVF8fLxSU1OVk5OjOXPmqGPHjkpLS9O0adOUnJzs81kpAAAAP+aiA2XXrl0aOHCg9+uz149kZWVp1apV+vWvf63Kyko98MADOnHihG666Sa9++67tv22VAAAEPouOlBuueUW/dhHpzgcDs2aNUuzZs26pMEAAMDli99mDAAAjEOgAAAA4xAoAADAOAQKAAAwDoECAACMQ6AAAADjECgAAMA4BAoAADAOgQIAAIxDoAAAAOMQKAAAwDgECgAAMA6BAgAAjEOgAAAA4xAoAADAOAQKAAAwDoECAACMQ6AAAADjECgAAMA4BAoAADAOgQIAAIxDoAAAAOMQKAAAwDgECgAAMA6BAgAAjEOgAAAA4xAoAADAOAQKAAAwDoECAACMQ6AAAADjECgAAMA4BAoAADAOgQIAAIxDoAAAAOMQKAAAwDgECgAAMA6BAgAAjEOgAAAA4xAoAADAOAQKAAAwDoECAACMQ6AAAADjECgAAMA4BAoAADAOgQIAAIxDoAAAAOMQKAAAwDgECgAAMA6BAgAAjEOgAAAA4xAoAADAOAQKAAAwDoECAACMQ6AAAADjECgAAMA4BAoAADCO7YHi8Xg0bdo0paWlKSYmRldeeaVmz54ty7LsPhQAAAhREXbf4bx587R06VK9/PLL6tKli3bt2qWxY8eqefPmmjhxot2HAwAAIcj2QPnggw80YsQIDR06VJLUvn17rVmzRjt27LD7UAAAIETZHih9+/bV8uXLtXfvXl199dX66KOPtHXrVi1cuLDe/aurq1VdXe392uVySZLcbrfcbrfd4/nF2Tkby7yNGWsdGKxzYLDOgcE6B4bd6+uwbL44pKamRlOnTtX8+fMVHh4uj8ejp556Sk888US9+8+YMUMzZ86ss3316tVq0qSJnaMBAAA/qaqq0r333quKigrFxcVd8v3ZHiivvvqqJk+erAULFqhLly4qKSlRTk6OFi5cqKysrDr713cGJSUlRWVlZbZ8g4HgdrtVUFCgwYMHKzIyMtjjhDTWOjBY58BgnQODdQ6MY8eOKSkpybZAsf0lnsmTJ2vKlCm65557JEndunXTgQMHlJeXV2+gOJ1OOZ3OOtsjIyMb3QOpMc7cWLHWgcE6BwbrHBiss3/Zvba2v824qqpKYWG+dxseHq6amhq7DwUAAEKU7WdQ7rzzTj311FNKTU1Vly5d9Le//U0LFy7UuHHj7D4UAAAIUbYHyqJFizRt2jQ9/PDDOnr0qJKTk/Xggw/qySeftPtQAAAgRNkeKLGxscrPz1d+fr7ddw0AAC4T/C4eAABgHAIFAAAYh0ABAADGIVAAAIBxCBQAAGAcAgUAABiHQAEAAMYhUAAAgHEIFAAAYBwCBQAAGIdAAQAAxiFQAACAcQgUAABgHAIFAAAYh0ABAADGIVAAAIBxCBQAAGAcAgUAABiHQAEAAMYhUAAAgHEIFAAAYBwCBQAAGIdAAQAAxiFQAACAcQgUAABgHAIFAAAYh0ABAADGIVAAAIBxCBQAAGAcAgUAABiHQAEAAMYhUAAAgHEIFAAAYBwCBQAAGIdAAQAAxiFQAACAcQgUAABgHAIFAAAYh0ABAADGIVAAAIBxCBQAAGAcAgUAABiHQAEAAMYhUAAAgHEIFAAAYBwCBQAAGIdAAQAAxiFQAACAcQgUAABgHAIFAAAYh0ABAADGIVAAAIBxCBQAAGAcAgUAABiHQAEAAMYhUAAAgHH8EiiHDh3S6NGjlZCQoJiYGHXr1k27du3yx6EAAEAIirD7Do8fP65+/fpp4MCB2rhxo1q1aqUvv/xSLVq0sPtQAAAgRNkeKPPmzVNKSopWrlzp3ZaWlmb3YQAAQAizPVDeeustZWRkaNSoUSosLFSbNm308MMP6/777693/+rqalVXV3u/drlckiS32y232233eH5xds7GMm9jxloHBuscGKxzYLDOgWH3+josy7LsvMPo6GhJUm5urkaNGqWdO3dq0qRJWrZsmbKysursP2PGDM2cObPO9tWrV6tJkyZ2jgYAAPykqqpK9957ryoqKhQXF3fJ92d7oERFRalXr1764IMPvNsmTpyonTt3atu2bXX2r+8MSkpKisrKymz5BgPB7XaroKBAgwcPVmRkZLDHCWmsdWCwzoHBOgcG6xwYx44dU1JSkm2BYvtLPElJSercubPPtmuvvVZvvPFGvfs7nU45nc462yMjIxvdA6kxztxYsdaBwToHBuscGKyzf9m9tra/zbhfv37as2ePz7a9e/eqXbt2dh8KAACEKNsD5dFHH9WHH36ouXPnat++fVq9erWWL1+u7Oxsuw8FAABClO2BcsMNN2j9+vVas2aNunbtqtmzZys/P1+ZmZl2HwoAAIQo269BkaRhw4Zp2LBh/rhrAABwGeB38QAAAOMQKAAAwDgECgAAMA6BAgAAjEOgAAAA4xAoAADAOAQKAAAwDoECAACMQ6AAAADjECgAAMA4BAoAADAOgQIAAIxDoAAAAOMQKAAAwDgECgAAMA6BAgAAjEOgAAAA4xAoAADAOAQKAAAwDoECAACMQ6AAAADjECgAAMA4BAoAADAOgQIAAIxDoAAAAOMQKAAAwDgECgAAMA6BAgAAjEOgAAAA4xAoAADAOAQKAAAwDoECAACMQ6AAAADjECgAAMA4BAoAADAOgQIAAIxDoAAAAOMQKAAAwDgECgAAMA6BAgAAjEOgAAAA4xAoAADAOAQKAAAwDoECAACMQ6AAAADjECgAAMA4BAoAADAOgQIAAIxDoAAAAOMQKAAAwDgECgAAMA6BAgAAjEOgAAAA4xAoAADAOAQKAAAwDoECAACM4/dAefrpp+VwOJSTk+PvQwEAgBDh10DZuXOnXnjhBV133XX+PAwAAAgxfguUU6dOKTMzUytWrFCLFi38dRgAABCCIvx1x9nZ2Ro6dKgGDRqkOXPmnHO/6upqVVdXe792uVySJLfbLbfb7a/xbHV2zsYyb2PGWgcG6xwYrHNgsM6BYff6+iVQXn31Ve3evVs7d+487755eXmaOXNmne2bNm1SkyZN/DGe3xQUFAR7hMsGax0YrHNgsM6BwTr7V1VVla3357Asy7LzDg8ePKhevXqpoKDAe+3JLbfcoh49eig/P7/O/vWdQUlJSVFZWZni4uLsHM1v3G63CgoKNHjwYEVGRgZ7nJDGWgcG6xwYrHNgsM6BcezYMSUlJamiosKWn9+2n0EpLi7W0aNH1bNnT+82j8ejoqIiPf/886qurlZ4eLj3NqfTKafTWed+IiMjG90DqTHO3Fix1oHBOgcG6xwYrLN/2b22tgfKbbfdpk8++cRn29ixY3XNNdfo8ccf94kTAACA+tgeKLGxseratavPtqZNmyohIaHOdgAAgPrwSbIAAMA4fnub8ff95S9/CcRhAABAiOAMCgAAMA6BAgAAjEOgAAAA4xAoAADAOAQKAAAwDoECAACMQ6AAAADjECgAAMA4BAoAADAOgQIAAIxDoAAAAOMQKAAAwDgECgAAMA6BAgAAjEOgAAAA4xAoAADAOAQKAAAwDoECAACMQ6AAAADjECgAAMA4BAoAADAOgQIAAIxDoAAAAOMQKAAAwDgECgAAMA6BAgAAjEOgAAAA4xAoAADAOAQKAAAwDoECAACMQ6AAAADjECgAAMA4BAoAADAOgQIAAIxDoAAAAOMQKAAAwDgECgAAMA6BAgAAjEOgAAAA4xAoAADAOAQKAAAwDoECAACMQ6AAAADjECgAAMA4BAoAADAOgQIAAIxDoAAAAOMQKAAAwDgECgAAMA6BAgAAjEOgAAAA4xAoAADAOAQKAAAwDoECAACMQ6AAAADjECiXyOORCgsdKipqo8JChzyeYE8EXBoe0wBMQKBcgnXrpPbtpcGDI7RwYS8NHhyh9u1rtwONEY9pAKaIsPsO8/LytG7dOn3xxReKiYlR3759NW/ePHXq1MnuQwXVunXS3XdLluW7/dCh2u1/+IM0YkRwZgtlZ87U/l1VJUXY/ui9vG3YII0efe7H9OuvS3fdFZzZAFx+bH+KLywsVHZ2tm644QadOXNGU6dO1e23367PP/9cTZs2tftwQeHxSJMm1X0il/617aGHpC++kMI4R2WrsDCpe3fp2WelmppgTxM6ampq1/Rcj2mHQ8rJqY3u8PCAjwfgMmR7oLz77rs+X69atUpXXHGFiouL1b9//zr7V1dXq7q62vu1y+WSJLndbrndbrvHs0VhoUP/+78/vnQul3Tw4BmlpdXzjI8GCwtz+/wNexw44JDLde7HtGVJBw9KW7ac0YABPKbtcvY5ztTnulDBOgeG3evr95PkFRUVkqT4+Ph6b8/Ly9PMmTPrbN+0aZOaNGni19kaqqiojaRe590vPr5E3bsf8v9Al6Fu3QqCPUJIqai4sMf0xo0lqqzkMW23ggIez4HAOvtXVVWVrffnsKz6Turao6amRsOHD9eJEye0devWevep7wxKSkqKysrKFBcX56/RLklhoUODB5+/7dLTzyg+nv/atFNkpFsPPFCg5csHy+2ODPY4IaO83KHi4vM/pgsKOINiJ7fbrYKCAg0ePFiRkTye/YV1Doxjx44pKSlJFRUVtvz89usZlOzsbH366afnjBNJcjqdcjqddbZHRkYa+0AaOFBq27b24sFz5V1srDRoUATXoNjs7PUPPXtGyuMx8/HRGNXUSHv3SidP1n+7w1H7mB84MIJrUPzA5Oe7UMI6+5fda+u3QJkwYYLefvttFRUVqW3btv46TFCEh9deUHj33efeZ8gQKTo6cDNdLs4GX2QkF2vabcgQ6bXX6m53OGr/zs9nzQEEju3/fW9ZliZMmKD169fr/fffV1pamt2HMMJdd9W+lfiHZ7FiY6Wf/1y69trgzAU01LXX1j6uo6J8t7dpw1uMAQSe7WdQsrOztXr1am3YsEGxsbE6fPiwJKl58+aKiYmx+3BBNWJE7VuJDx48o/j4EhUW9tCgQRGcOUGj1amTVFYmVVae0YABJSov76Fnn42oE+IA4G+2n0FZunSpKioqdMsttygpKcn7Z+3atXYfyghhYVJamqX+/Q8pPt7imhM0eg6HFB9f+5hOS7N4WQdAUNh+BsWPbwoCAACXCf57HwAAGIdAAQAAxiFQAACAcQgUAABgHAIFAAAYh0ABAADGIVAAAIBxCBQAAGAcAgUAABiHQAEAAMYhUAAAgHEIFAAAYBwCBQAAGIdAAQAAxiFQAACAcQgUAABgHAIFAAAYh0ABAADGIVAAAIBxCBQAAGAcAgUAABiHQAEAAMYhUAAAgHEIFAAAYBwCBQAAGIdAAQAAxiFQAACAcQgUAABgHAIFAAAYh0ABAADGIVAAAIBxCBQAAGAcAgUAABiHQAEAAMYhUAAAgHEIFAAAYBwCBQAAGIdAAQAAxiFQAACAcQgUAABgHAIFAAAYh0ABAADGIVAAAIBxCBQAAGAcAgUAABiHQAEAAMYhUAAAgHEIFAAAYBwCBQAAGIdAAQAAxiFQAACAcQgUAABgHAIFAAAYh0ABAADGIVAAAIBxIoI9QGN35oy0a1eYtm/vpgMHwtSjhxQVFeypgIazLKm83KGiojYqL3fI4wn2RAAuR347g7J48WK1b99e0dHR6tOnj3bs2OGvQwXNb38rzZ0rvfdeuP70pw7auzdczzwjFRQEezKgYfbskT78UCoujtDChb20alWEOneW1q0L9mQALjd+OYOydu1a5ebmatmyZerTp4/y8/OVkZGhPXv26IorrvDHIQPu17+W8vPrbrcs6YMPJI9HuvXWgI8V8sLDa/92u8V/2dtsz576Q+Trr6W775Zef126667AzwXg8uSXQFm4cKHuv/9+jR07VpK0bNkyvfPOO3rppZc0ZcoUfxwyoE6flhYu/PF9tm+vfaknjKt8bBUVJfXqVbu+p08He5rQYVm1Z07OdZvDIeXkSCNG/CsSAcCfbA+U06dPq7i4WE888YR3W1hYmAYNGqRt27bV2b+6ulrV1dXer10ulyTJ7XbL7XbbPZ4tFi0Kk8dz/mfpI0c8ateuJgATXT4iI90+f8Me5eUOnT597qcDy5IOHpS2bDmjAQOsAE4W2s4+x5n6XBcqWOfAsHt9bQ+UsrIyeTweJSYm+mxPTEzUF198UWf/vLw8zZw5s872TZs2qUmTJnaPZ4v33+8mqcN597vqqgN64IFP/D/QZeiBB7jQx05FRW1UXNzrvPtt3FiiyspDAZjo8lLAhWsBwTr7V1VVla33F/R38TzxxBPKzc31fu1yuZSSkqLbb79dcXFxQZzs3PbtC9Of/nT+/TyedvrooxT/D3QZCQtzq1u3An3yyWDV1EQGe5yQUV7uuKD9hgzpoQEDuvt5msuH2+1WQUGBBg8erMhIHs/+wjoHxrFjx2y9P9sDpWXLlgoPD9eRI0d8th85ckStW7eus7/T6ZTT6ayzPTIy0tgH0iOPSI8//uMXaYaHS2vWhCsqihfs7XTmjPSXv0iPPBKpiAgzHx+NkcdT++6zr7+ufTnnhxwOqW1baeDACK5B8QOTn+9CCevsX3avre2BEhUVpfT0dG3evFkjR46UJNXU1Gjz5s2aMGGC3YcLiqgoKTdXWrDg3Pvk5kotWgRupsvF2Zc4mzSReJ6x13PP1b5bx+HwjRTH/z+5kp/PBbIAAscv7zHJzc3VihUr9PLLL+vvf/+7HnroIVVWVnrf1RMK5s+XJk+u+4QdHl67ff784MwFNNRdd9W+lbhNG9/tbdvyFmMAgeeXa1D+4z/+Q998842efPJJHT58WD169NC7775b58LZxm7+fGnOHGnRIo/ef/+Abr21nR55JJxPkkWjddddtW8l3rLljDZuLNGQIT14WQdAUPjtItkJEyaEzEs6PyYqSpo4sUZXXfWJ/u3fUhQZyTM5GrfwcGnAAEuVlYc0YEB34gRAUPAxYgAAwDgECgAAMA6BAgAAjEOgAAAA4xAoAADAOAQKAAAwDoECAACMQ6AAAADjECgAAMA4BAoAADAOgQIAAIxDoAAAAOMQKAAAwDgECgAAMA6BAgAAjEOgAAAA4xAoAADAOAQKAAAwDoECAACMQ6AAAADjECgAAMA4BAoAADAOgQIAAIxDoAAAAOMQKAAAwDgRwR7ghyzLkiS5XK4gT3Lh3G63qqqq5HK5FBkZGexxQhprHRisc2CwzoHBOgfGyZMnJf3r5/ilMi5Qzn6DKSkpQZ4EAABcrGPHjql58+aXfD8Oy67UsUlNTY2+/vprxcbGyuFwBHucC+JyuZSSkqKDBw8qLi4u2OOENNY6MFjnwGCdA4N1DoyKigqlpqbq+PHj+slPfnLJ92fcGZSwsDC1bds22GM0SFxcHA/+AGGtA4N1DgzWOTBY58AIC7Pn8lYukgUAAMYhUAAAgHEIFBs4nU5Nnz5dTqcz2KOEPNY6MFjnwGCdA4N1Dgy719m4i2QBAAA4gwIAAIxDoAAAAOMQKAAAwDgECgAAMA6BAgAAjEOg2GDx4sVq3769oqOj1adPH+3YsSPYI4WUvLw83XDDDYqNjdUVV1yhkSNHas+ePcEeK+Q9/fTTcjgcysnJCfYoIenQoUMaPXq0EhISFBMTo27dumnXrl3BHiukeDweTZs2TWlpaYqJidGVV16p2bNn2/bL7C5XRUVFuvPOO5WcnCyHw6E333zT53bLsvTkk08qKSlJMTExGjRokL788suLPg6BconWrl2r3NxcTZ8+Xbt371b37t2VkZGho0ePBnu0kFFYWKjs7Gx9+OGHKigokNvt1u23367Kyspgjxaydu7cqRdeeEHXXXddsEcJScePH1e/fv0UGRmpjRs36vPPP9fvfvc7tWjRItijhZR58+Zp6dKlev755/X3v/9d8+bN0/z587Vo0aJgj9aoVVZWqnv37lq8eHG9t8+fP1/PPfecli1bpu3bt6tp06bKyMjQd999d3EHsnBJevfubWVnZ3u/9ng8VnJyspWXlxfEqULb0aNHLUlWYWFhsEcJSSdPnrQ6duxoFRQUWAMGDLAmTZoU7JFCzuOPP27ddNNNwR4j5A0dOtQaN26cz7a77rrLyszMDNJEoUeStX79eu/XNTU1VuvWra0FCxZ4t504ccJyOp3WmjVrLuq+OYNyCU6fPq3i4mINGjTIuy0sLEyDBg3Stm3bgjhZaKuoqJAkxcfHB3mS0JSdna2hQ4f6PK5hr7feeku9evXSqFGjdMUVV+j666/XihUrgj1WyOnbt682b96svXv3SpI++ugjbd26VUOGDAnyZKGrtLRUhw8f9nn+aN68ufr06XPRPxeN+23GjUlZWZk8Ho8SExN9ticmJuqLL74I0lShraamRjk5OerXr5+6du0a7HFCzquvvqrdu3dr586dwR4lpH311VdaunSpcnNzNXXqVO3cuVMTJ05UVFSUsrKygj1eyJgyZYpcLpeuueYahYeHy+Px6KmnnlJmZmawRwtZhw8flqR6fy6eve1CEShoVLKzs/Xpp59q69atwR4l5Bw8eFCTJk1SQUGBoqOjgz1OSKupqVGvXr00d+5cSdL111+vTz/9VMuWLSNQbPTaa6/plVde0erVq9WlSxeVlJQoJydHycnJrHMjwEs8l6Bly5YKDw/XkSNHfLYfOXJErVu3DtJUoWvChAl6++23tWXLFrVt2zbY44Sc4uJiHT16VD179lRERIQiIiJUWFio5557ThEREfJ4PMEeMWQkJSWpc+fOPtuuvfZa/fOf/wzSRKFp8uTJmjJliu655x5169ZNY8aM0aOPPqq8vLxgjxayzv7ss+PnIoFyCaKiopSenq7Nmzd7t9XU1Gjz5s268cYbgzhZaLEsSxMmTND69ev1/vvvKy0tLdgjhaTbbrtNn3zyiUpKSrx/evXqpczMTJWUlCg8PDzYI4aMfv361Xmr/N69e9WuXbsgTRSaqqqqFBbm+2MuPDxcNTU1QZoo9KWlpal169Y+PxddLpe2b99+0T8XeYnnEuXm5iorK0u9evVS7969lZ+fr8rKSo0dOzbYo4WM7OxsrV69Whs2bFBsbKz3dczmzZsrJiYmyNOFjtjY2DrX9TRt2lQJCQlc72OzRx99VH379tXcuXP185//XDt27NDy5cu1fPnyYI8WUu6880499dRTSk1NVZcuXfS3v/1NCxcu1Lhx44I9WqN26tQp7du3z/t1aWmpSkpKFB8fr9TUVOXk5GjOnDnq2LGj0tLSNG3aNCUnJ2vkyJEXdyCb3ml0WVu0aJGVmppqRUVFWb1797Y+/PDDYI8UUiTV+2flypXBHi3k8TZj//njH/9ode3a1XI6ndY111xjLV++PNgjhRyXy2VNmjTJSk1NtaKjo60OHTpYv/nNb6zq6upgj9aobdmypd7n5KysLMuyat9qPG3aNCsxMdFyOp3WbbfdZu3Zs+eij+OwLD5SDwAAmIVrUAAAgHEIFAAAYBwCBQAAGIdAAQAAxiFQAACAcQgUAABgHAIFAAAYh0ABAADGIVAAAIBxCBQAAGAcAgUAABjn/wGErp6lR3gMfgAAAABJRU5ErkJggg==",
      "text/plain": [
       "<Figure size 640x480 with 1 Axes>"
      ]
     },
     "metadata": {},
     "output_type": "display_data"
    }
   ],
   "source": [
    "# Plot the orginal shape\n",
    "plotTwoPolygons(X1 = X, plot_title = \"Original shape\")"
   ]
  },
  {
   "cell_type": "markdown",
   "id": "0994b132",
   "metadata": {
    "id": "0994b132"
   },
   "source": [
    "We will then combine the transformations using matrix multiplication only to achieve the affine transformation, i.e.:\n",
    "$$\n",
    "\\begin{align}\n",
    "\t\\tilde{\\bf x}^\\prime = T_hS_hR_h\\,\\tilde{\\bf x}.\n",
    "\\end{align}\n",
    "$$\n"
   ]
  },
  {
   "cell_type": "markdown",
   "id": "9b743880",
   "metadata": {
    "id": "9b743880"
   },
   "source": [
    "Before we calculate the transformation, we need to convert the coordinates from Cartesian to homogeneous. As pointed out earlier, we add 1 as an extra coordinate. We choose $\\lambda = 1$.\n",
    "$$\n",
    "\\left[\\begin{array}{c}\n",
    "    x \\\\\t\ty\n",
    "\\end{array}\\right]\n",
    "\\rightarrow\\lambda\\left[\n",
    "\\begin{array}{c}\n",
    "    x \\\\\t\ty \\\\                1\n",
    "\\end{array}\\right].\n",
    "$$\n"
   ]
  },
  {
   "cell_type": "code",
   "execution_count": 20,
   "id": "d4bb0fe3",
   "metadata": {
    "colab": {
     "base_uri": "https://localhost:8080/"
    },
    "id": "d4bb0fe3",
    "outputId": "eaf7a6b4-5fb6-4e9f-e8b8-cf44bee4ce98"
   },
   "outputs": [
    {
     "name": "stdout",
     "output_type": "stream",
     "text": [
      "Input shape (homogeneous coords): \n",
      "\n",
      "X_h = [[0. 4. 4. 0. 0.]\n",
      "       [0. 0. 2. 2. 0.]\n",
      "       [1. 1. 1. 1. 1.]]\n"
     ]
    }
   ],
   "source": [
    "# Convert shape points from Cartesian to Homogeneous\n",
    "ncols = X.shape[1]\n",
    "\n",
    "X_h = np.block([[X],\n",
    "               [np.ones((1, ncols))]])\n",
    "\n",
    "print(\"Input shape (homogeneous coords): \\n\")\n",
    "print('X_h =', np.array2string(X_h, prefix='      '))\n"
   ]
  },
  {
   "cell_type": "code",
   "execution_count": 21,
   "id": "a7432363",
   "metadata": {
    "colab": {
     "base_uri": "https://localhost:8080/"
    },
    "id": "a7432363",
    "outputId": "bf456662-3ee6-4fd3-e8f9-da4e484fbc75"
   },
   "outputs": [
    {
     "name": "stdout",
     "output_type": "stream",
     "text": [
      "Transformed shape (homogeneous coords): \n",
      "\n",
      "Xp_h = [[2.         9.39103626 7.86030253 0.46926627 2.        ]\n",
      "        [3.         4.53073373 6.37849279 4.84775907 3.        ]\n",
      "        [1.         1.         1.         1.         1.        ]]\n"
     ]
    }
   ],
   "source": [
    "# Affine transformation by combining transformations in homogeneous coordinates\n",
    "Xp_h = T_h @ S_h @ R_h @ X_h\n",
    "\n",
    "print(\"Transformed shape (homogeneous coords): \\n\")\n",
    "print('Xp_h =', np.array2string(Xp_h, prefix='       '))"
   ]
  },
  {
   "cell_type": "markdown",
   "id": "382527d1",
   "metadata": {
    "id": "382527d1"
   },
   "source": [
    "The calculations were done using homogeneous coordinates to represent the shape. The actual shape is represented in Cartesian coordinates. Thus, we must convert the shape back to Cartesian.\n",
    "\n",
    "To convert homogenous coordinates back to Cartesian, we need only to divide\n",
    "the homogeneous coordinates as follows:\n",
    "\n",
    "$$\\lambda\\left[\\begin{array}{c}\t\tx \\\\\t\ty \\\\                1\\end{array}\\right]\\rightarrow\\left[\\begin{array}{c}\n",
    "x / \\lambda\\\\\t\ty / \\lambda\\end{array}\\right].\n",
    "$$\n"
   ]
  },
  {
   "cell_type": "code",
   "execution_count": 22,
   "id": "5215f8fe",
   "metadata": {
    "colab": {
     "base_uri": "https://localhost:8080/"
    },
    "id": "5215f8fe",
    "outputId": "bce43102-a41a-4ffd-8f54-2e2037132453"
   },
   "outputs": [
    {
     "name": "stdout",
     "output_type": "stream",
     "text": [
      "Transformed shape (Cartesian coords): \n",
      "\n",
      "Xp = [[2.         9.39103626 7.86030253 0.46926627 2.        ]\n",
      "      [3.         4.53073373 6.37849279 4.84775907 3.        ]]\n"
     ]
    }
   ],
   "source": [
    "# Convert shape representation from homogeneous to Cartesian (using vectorized calculation for speed and concise code)\n",
    "Xp = Xp_h[0:2,:] / Xp_h[2,:]\n",
    "\n",
    "print(\"Transformed shape (Cartesian coords): \\n\")\n",
    "print('Xp =', np.array2string(Xp, prefix='     '))\n"
   ]
  },
  {
   "cell_type": "code",
   "execution_count": 23,
   "id": "7ed5d450",
   "metadata": {
    "colab": {
     "base_uri": "https://localhost:8080/",
     "height": 452
    },
    "id": "7ed5d450",
    "outputId": "df880312-bab1-4a17-fa2d-761c43d2c959"
   },
   "outputs": [
    {
     "data": {
      "image/png": "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",
      "text/plain": [
       "<Figure size 640x480 with 1 Axes>"
      ]
     },
     "metadata": {},
     "output_type": "display_data"
    }
   ],
   "source": [
    "# Now, display the shape (Remember, we can only display the shape after we convert it to Cartesian coordinates)\n",
    "plotTwoPolygons(X1 = X, X2 = Xp, plot_title = \"Original and transformed shapes\")"
   ]
  },
  {
   "cell_type": "markdown",
   "id": "ee3256df",
   "metadata": {
    "id": "ee3256df"
   },
   "source": [
    "## Using the inverse in homogeneous coordinates\n",
    "The following example shows the use of the inverse transformation. This time, the notation is more concise because we will use homogeneous coordinates instead of Cartesian coordinates.\n",
    "\n",
    "Recall that the inverse of the transformation is:\n",
    "$$\n",
    "\\begin{align}\n",
    " \\tilde{\\bf x}   &= \\left(T_h\\,S_h\\,R_h\\right)^{-1}\\,\\tilde{\\bf x}^\\prime \\\\\n",
    "                 &= R_h^{-1}\\,S_h^{-1}\\,T_h^{-1}\\,\\tilde{\\bf x}^\\prime.\n",
    "\\end{align}\n",
    "$$\n"
   ]
  },
  {
   "cell_type": "markdown",
   "id": "851c86c1-0ed0-4224-8c68-1962d11f44ee",
   "metadata": {
    "id": "851c86c1-0ed0-4224-8c68-1962d11f44ee"
   },
   "source": [
    "### Code example"
   ]
  },
  {
   "cell_type": "code",
   "execution_count": 24,
   "id": "2bbef90d",
   "metadata": {
    "colab": {
     "base_uri": "https://localhost:8080/"
    },
    "id": "2bbef90d",
    "outputId": "132e710b-6a49-431b-8d6c-dbae19973723"
   },
   "outputs": [
    {
     "name": "stdout",
     "output_type": "stream",
     "text": [
      "This is original shape calculated by the inverse transformation:\n",
      "\n",
      "Xi_h = [[0.0e+00 4.0e+00 4.0e+00 4.4e-16 0.0e+00]\n",
      "        [0.0e+00 4.4e-16 2.0e+00 2.0e+00 0.0e+00]\n",
      "        [1.0e+00 1.0e+00 1.0e+00 1.0e+00 1.0e+00]]\n"
     ]
    }
   ],
   "source": [
    "# Using the inverse transformation to revert the \"transformed\" shape to its original shape\n",
    "Xi_h = np.linalg.inv(R_h) @ np.linalg.inv(S_h) @ np.linalg.inv(T_h) @ Xp_h\n",
    "\n",
    "\n",
    "# Transform this shape using the inverse affine matrix\n",
    "print('This is original shape calculated by the inverse transformation:\\n')\n",
    "print('Xi_h =', np.array2string(Xi_h, prefix='       ', precision=1))\n"
   ]
  },
  {
   "cell_type": "code",
   "execution_count": 25,
   "id": "0f7517be",
   "metadata": {
    "colab": {
     "base_uri": "https://localhost:8080/",
     "height": 452
    },
    "id": "0f7517be",
    "outputId": "dd0da979-1332-49d9-9c0a-c39facedb528"
   },
   "outputs": [
    {
     "data": {
      "image/png": "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",
      "text/plain": [
       "<Figure size 640x480 with 1 Axes>"
      ]
     },
     "metadata": {},
     "output_type": "display_data"
    }
   ],
   "source": [
    "# Convert shape back to Cartesian coords and display both shapes\n",
    "Xi_new = Xi_h[0:2,:] / Xi_h[2,:]\n",
    "Xp_new = Xp_h[0:2,:] / Xp_h[2,:]\n",
    "\n",
    "\n",
    "# Display both shapes (original and transformed)\n",
    "plotTwoPolygons(X1 = Xp_new, X2 = Xi_new, plot_title = \"Inverse transformation recovers the original shape\")"
   ]
  },
  {
   "cell_type": "code",
   "execution_count": null,
   "id": "8cffe07b",
   "metadata": {
    "id": "8cffe07b"
   },
   "outputs": [],
   "source": []
  }
 ],
 "metadata": {
  "colab": {
   "include_colab_link": true,
   "provenance": [],
   "toc_visible": true
  },
  "kernelspec": {
   "display_name": "Python 3 (ipykernel)",
   "language": "python",
   "name": "python3"
  },
  "language_info": {
   "codemirror_mode": {
    "name": "ipython",
    "version": 3
   },
   "file_extension": ".py",
   "mimetype": "text/x-python",
   "name": "python",
   "nbconvert_exporter": "python",
   "pygments_lexer": "ipython3",
   "version": "3.12.0"
  }
 },
 "nbformat": 4,
 "nbformat_minor": 5
}
